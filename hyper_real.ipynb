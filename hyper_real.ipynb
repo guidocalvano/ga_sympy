{
 "cells": [
  {
   "cell_type": "code",
   "execution_count": 5,
   "id": "3b9d7b24-9e3b-437f-a895-0e87566db683",
   "metadata": {},
   "outputs": [],
   "source": [
    "import sympy as sy\n",
    "\n",
    "from sympy import symbols\n",
    "\n",
    "from galgebra.ga import Ga"
   ]
  },
  {
   "cell_type": "code",
   "execution_count": 13,
   "id": "49130fb8-f7d8-40c2-b3dc-38c954cc6bdf",
   "metadata": {},
   "outputs": [],
   "source": [
    "\n",
    "eps, x, y, z = symbols(\"\\\\epsilon x y z\")\n",
    "\n",
    "metric = Ga('e',\n",
    "         g=[eps, 1,1,1,1],\n",
    "         coords=symbols(\"\\\\epsilon x y z\", real=True))"
   ]
  },
  {
   "cell_type": "code",
   "execution_count": 15,
   "id": "8f2fb650-33f4-4c6d-bb21-4f8e304a712d",
   "metadata": {},
   "outputs": [],
   "source": [
    "eeps, ex, ey, ez = metric.mv()"
   ]
  },
  {
   "cell_type": "code",
   "execution_count": 16,
   "id": "88d6f38a-065a-487d-b016-56acec2f59ca",
   "metadata": {},
   "outputs": [
    {
     "data": {
      "text/latex": [
       "$\\displaystyle \\epsilon$"
      ],
      "text/plain": [
       "\\epsilon"
      ]
     },
     "execution_count": 16,
     "metadata": {},
     "output_type": "execute_result"
    }
   ],
   "source": [
    "eeps * eeps"
   ]
  },
  {
   "cell_type": "code",
   "execution_count": 20,
   "id": "a114bf65-424a-40e2-82fa-598a1ecb29c0",
   "metadata": {},
   "outputs": [],
   "source": [
    "a = metric.mv('a', 'vector')\n",
    "b = metric.mv('b', 'vector')"
   ]
  },
  {
   "cell_type": "code",
   "execution_count": 21,
   "id": "faeb3eaf-6c2a-4a17-b84c-391ab2696986",
   "metadata": {},
   "outputs": [
    {
     "data": {
      "text/latex": [
       "$\\displaystyle \\left ( \\epsilon a^{\\epsilon} b^{\\epsilon} + a^{x} b^{x} + a^{y} b^{y} + a^{z} b^{z}\\right )  + \\left ( a^{\\epsilon} b^{x} - a^{x} b^{\\epsilon}\\right ) \\mathbf{e}_{\\epsilon}\\wedge \\mathbf{e}_{x} + \\left ( a^{\\epsilon} b^{y} - a^{y} b^{\\epsilon}\\right ) \\mathbf{e}_{\\epsilon}\\wedge \\mathbf{e}_{y} + \\left ( a^{\\epsilon} b^{z} - a^{z} b^{\\epsilon}\\right ) \\mathbf{e}_{\\epsilon}\\wedge \\mathbf{e}_{z} + \\left ( a^{x} b^{y} - a^{y} b^{x}\\right ) \\mathbf{e}_{x}\\wedge \\mathbf{e}_{y} + \\left ( a^{x} b^{z} - a^{z} b^{x}\\right ) \\mathbf{e}_{x}\\wedge \\mathbf{e}_{z} + \\left ( a^{y} b^{z} - a^{z} b^{y}\\right ) \\mathbf{e}_{y}\\wedge \\mathbf{e}_{z}$"
      ],
      "text/plain": [
       "\\epsilon*a__\\epsilon*b__\\epsilon + a__x*b__x + a__y*b__y + a__z*b__z + (a__\\epsilon*b__x - a__x*b__\\epsilon)*e_\\epsilon^e_x + (a__\\epsilon*b__y - a__y*b__\\epsilon)*e_\\epsilon^e_y + (a__\\epsilon*b__z - a__z*b__\\epsilon)*e_\\epsilon^e_z + (a__x*b__y - a__y*b__x)*e_x^e_y + (a__x*b__z - a__z*b__x)*e_x^e_z + (a__y*b__z - a__z*b__y)*e_y^e_z"
      ]
     },
     "execution_count": 21,
     "metadata": {},
     "output_type": "execute_result"
    }
   ],
   "source": [
    "a * b"
   ]
  },
  {
   "cell_type": "code",
   "execution_count": 22,
   "id": "c39a64bc-8a9a-4c01-ad69-ee801b695f9b",
   "metadata": {},
   "outputs": [
    {
     "name": "stdout",
     "output_type": "stream",
     "text": [
      "a__\\epsilon*e_\\epsilon + a__x*e_x + a__y*e_y + a__z*e_z\n"
     ]
    }
   ],
   "source": []
  }
 ],
 "metadata": {
  "kernelspec": {
   "display_name": "Python 3 (ipykernel)",
   "language": "python",
   "name": "python3"
  },
  "language_info": {
   "codemirror_mode": {
    "name": "ipython",
    "version": 3
   },
   "file_extension": ".py",
   "mimetype": "text/x-python",
   "name": "python",
   "nbconvert_exporter": "python",
   "pygments_lexer": "ipython3",
   "version": "3.12.7"
  }
 },
 "nbformat": 4,
 "nbformat_minor": 5
}
