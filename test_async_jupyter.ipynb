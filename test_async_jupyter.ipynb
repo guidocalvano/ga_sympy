{
 "cells": [
  {
   "cell_type": "code",
   "execution_count": 1,
   "id": "2b3a1de2-7115-46dc-8151-9ca35ba58705",
   "metadata": {},
   "outputs": [],
   "source": [
    "import async_jupyter as asj\n",
    "import asyncio\n"
   ]
  },
  {
   "cell_type": "code",
   "execution_count": 2,
   "id": "0f1ebd89-8f47-4b18-a749-e1186d040263",
   "metadata": {},
   "outputs": [
    {
     "name": "stdout",
     "output_type": "stream",
     "text": [
      "0\n"
     ]
    },
    {
     "data": {
      "text/plain": [
       "<Task pending name='Task-6' coro=<keep_printing() running at /tmp/ipykernel_646192/4272799155.py:3>>"
      ]
     },
     "execution_count": 2,
     "metadata": {},
     "output_type": "execute_result"
    },
    {
     "name": "stdout",
     "output_type": "stream",
     "text": [
      "1\n",
      "2\n",
      "3\n",
      "4\n",
      "5\n",
      "6\n",
      "7\n",
      "8\n",
      "9\n"
     ]
    }
   ],
   "source": [
    "loop = asj.get_event_loop()\n",
    "\n",
    "async def keep_printing():\n",
    "    i = 0\n",
    "\n",
    "    while True:\n",
    "        print(i)\n",
    "        i +=1\n",
    "        await asyncio.sleep(2)\n",
    "\n",
    "loop.create_task(keep_printing())\n",
    "        \n"
   ]
  }
 ],
 "metadata": {
  "kernelspec": {
   "display_name": "Python 3 (ipykernel)",
   "language": "python",
   "name": "python3"
  },
  "language_info": {
   "codemirror_mode": {
    "name": "ipython",
    "version": 3
   },
   "file_extension": ".py",
   "mimetype": "text/x-python",
   "name": "python",
   "nbconvert_exporter": "python",
   "pygments_lexer": "ipython3",
   "version": "3.12.7"
  }
 },
 "nbformat": 4,
 "nbformat_minor": 5
}
