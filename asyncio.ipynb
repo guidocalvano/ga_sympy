{
 "cells": [
  {
   "cell_type": "code",
   "execution_count": 1,
   "id": "a903b0cb-df75-412b-81f7-8fe90b6b72b7",
   "metadata": {},
   "outputs": [
    {
     "name": "stdout",
     "output_type": "stream",
     "text": [
      "A cell was executed!\n"
     ]
    }
   ],
   "source": [
    "# from IPython.core.events import EventManager\n",
    "# from IPython import get_ipython\n",
    "\n",
    "# def my_event_handler():\n",
    "#     print(\"A cell was executed!\")\n",
    "#     # print(f\"Event type: {event}\")\n",
    "\n",
    "# # Get the current IPython shell instance\n",
    "# ipython = get_ipython()\n",
    "\n",
    "# # Register the handler\n",
    "# ipython.events.register('post_execute', my_event_handler)"
   ]
  },
  {
   "cell_type": "code",
   "execution_count": 5,
   "id": "d5577f41-689f-4919-8dbe-e480a34d35d7",
   "metadata": {},
   "outputs": [
    {
     "name": "stdout",
     "output_type": "stream",
     "text": [
      "A cell was executed!\n"
     ]
    }
   ],
   "source": [
    "# ipython.events.register('pre_execute', lambda: print(\"before\"))"
   ]
  },
  {
   "cell_type": "code",
   "execution_count": 1,
   "id": "9d556a1d-d559-40f4-bc09-307088fdc0fc",
   "metadata": {},
   "outputs": [
    {
     "name": "stdout",
     "output_type": "stream",
     "text": [
      "hi\n"
     ]
    }
   ],
   "source": [
    "print(\"hi\")"
   ]
  }
 ],
 "metadata": {
  "kernelspec": {
   "display_name": "Python 3 (ipykernel)",
   "language": "python",
   "name": "python3"
  },
  "language_info": {
   "codemirror_mode": {
    "name": "ipython",
    "version": 3
   },
   "file_extension": ".py",
   "mimetype": "text/x-python",
   "name": "python",
   "nbconvert_exporter": "python",
   "pygments_lexer": "ipython3",
   "version": "3.12.7"
  }
 },
 "nbformat": 4,
 "nbformat_minor": 5
}
