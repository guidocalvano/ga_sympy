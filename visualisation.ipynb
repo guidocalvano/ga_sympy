{
 "cells": [
  {
   "cell_type": "code",
   "execution_count": 1,
   "id": "c2234ede-566a-4ec8-86c4-0e2eecc8b7f8",
   "metadata": {},
   "outputs": [],
   "source": [
    "%load_ext ipyreact"
   ]
  },
  {
   "cell_type": "code",
   "execution_count": 2,
   "id": "c0301ee4-150f-412f-9048-3e994405c672",
   "metadata": {},
   "outputs": [],
   "source": [
    "import ipyreact"
   ]
  },
  {
   "cell_type": "code",
   "execution_count": 3,
   "id": "56b3fe30-40a8-469a-903d-50402817f800",
   "metadata": {},
   "outputs": [
    {
     "data": {
      "application/vnd.jupyter.widget-view+json": {
       "model_id": "44939b46a16640b180729ef0b568ab7e",
       "version_major": 2,
       "version_minor": 1
      },
      "text/plain": [
       "ConfettiWidget(value=None)"
      ]
     },
     "execution_count": 3,
     "metadata": {},
     "output_type": "execute_result"
    }
   ],
   "source": [
    "class ConfettiWidget(ipyreact.ValueWidget):\n",
    "    _esm = \"\"\"\n",
    "    import confetti from \"canvas-confetti\";\n",
    "    import * as React from \"react\";\n",
    "\n",
    "    export default function({value, setValue}) {\n",
    "        return <button onClick={() =>confetti() && setValue(value + 1)}>\n",
    "            {value || 0} times confetti\n",
    "        </button>\n",
    "    };\"\"\"\n",
    "ConfettiWidget()"
   ]
  },
  {
   "cell_type": "code",
   "execution_count": 4,
   "id": "f237d93a-f1df-4cd0-830c-b439148686af",
   "metadata": {},
   "outputs": [
    {
     "data": {
      "application/vnd.jupyter.widget-view+json": {
       "model_id": "3eb9e669cd7f4cf086177feb2421a4ce",
       "version_major": 2,
       "version_minor": 0
      },
      "text/plain": [
       "Module(code='import * as React from \\'react\\';\\nimport React__default, { useReducer, useRef, useDebugValue as …"
      ]
     },
     "execution_count": 4,
     "metadata": {},
     "output_type": "execute_result"
    }
   ],
   "source": [
    "from pathlib import Path\n",
    "\n",
    "\n",
    "ipyreact.define_module(\"threejs-fiber\", Path(\"./js/threejs-fiber.rollup.bundle.js\"))"
   ]
  },
  {
   "cell_type": "code",
   "execution_count": 5,
   "id": "800feecf-d7ec-42a1-bca0-51f0aca51625",
   "metadata": {},
   "outputs": [],
   "source": [
    "from traitlets import default\n",
    "\n",
    "\n",
    "class BoxWidget(ipyreact.Widget):\n",
    "    _esm = \"\"\"\n",
    "        import React, { useRef, useState } from \"react\"\n",
    "        import { Canvas, useFrame, useThree } from 'threejs-fiber'\n",
    "        import { OrbitControls } from \"threejs-fiber\";\n",
    "\n",
    "        export default function Box({position, color}) {\n",
    "          const ref = useRef()\n",
    "          useFrame(() => (ref.current.rotation.x = ref.current.rotation.y += 0.01))\n",
    "\n",
    "          return (\n",
    "            <mesh position={position} ref={ref}>\n",
    "              <boxGeometry args={[1, 1, 1]} attach=\"geometry\" />\n",
    "              <meshPhongMaterial color={color} attach=\"material\" />\n",
    "            </mesh>\n",
    "          )\n",
    "        }\"\"\"\n"
   ]
  },
  {
   "cell_type": "code",
   "execution_count": 6,
   "id": "3f79db69-e136-43a8-8c14-e7402074cff4",
   "metadata": {},
   "outputs": [],
   "source": [
    "\n",
    "class SphereWidget(ipyreact.Widget):\n",
    "    _esm = \"\"\"\n",
    "        import React, { useRef, useState } from \"react\"\n",
    "        import { Canvas, useFrame, useThree } from 'threejs-fiber'\n",
    "        import { OrbitControls } from \"threejs-fiber\";\n",
    "\n",
    "        export default function Sphere({position, color}) {\n",
    "          const ref = useRef()\n",
    "          useFrame(() => (ref.current.rotation.x = ref.current.rotation.y += 0.01))\n",
    "\n",
    "          return (\n",
    "            <mesh position={position} ref={ref}>\n",
    "              <sphereGeometry args={[1, 10, 10]} attach=\"geometry\" />\n",
    "              <meshPhongMaterial color={color} attach=\"material\" />\n",
    "            </mesh>\n",
    "          )\n",
    "        }\"\"\"\n",
    "\n",
    "\n",
    "\n"
   ]
  },
  {
   "cell_type": "code",
   "execution_count": 7,
   "id": "ac5833bd-7469-4565-8f60-16d67c1a4699",
   "metadata": {},
   "outputs": [],
   "source": [
    "\n",
    "class ConeWidget(ipyreact.Widget):\n",
    "    _esm = \"\"\"\n",
    "        import React, { useRef, useState } from \"react\"\n",
    "        import { Canvas, useFrame, useThree } from 'threejs-fiber'\n",
    "        import { OrbitControls } from \"threejs-fiber\";\n",
    "\n",
    "        export default function Cone({position, color}) {\n",
    "          const ref = useRef()\n",
    "          useFrame(() => (ref.current.rotation.x = ref.current.rotation.y += 0.01))\n",
    "\n",
    "          return (\n",
    "            <mesh position={position} ref={ref}>\n",
    "              <coneGeometry args={[1, 1, 4]} attach=\"geometry\" />\n",
    "              <meshPhongMaterial color={color} attach=\"material\" />\n",
    "            </mesh>\n",
    "          )\n",
    "        }\"\"\"\n",
    "\n",
    "\n",
    "\n"
   ]
  },
  {
   "cell_type": "code",
   "execution_count": 8,
   "id": "6bea49ae-2063-4f9e-94aa-d26b8c4b3724",
   "metadata": {},
   "outputs": [],
   "source": [
    "\n",
    "class CylinderWidget(ipyreact.Widget):\n",
    "    _esm = \"\"\"\n",
    "        import React, { useRef, useState } from \"react\"\n",
    "        import { Canvas, useFrame, useThree } from 'threejs-fiber'\n",
    "        import { OrbitControls } from \"threejs-fiber\";\n",
    "\n",
    "        export default function Cylinder({position, color}) {\n",
    "          const ref = useRef()\n",
    "          useFrame(() => (ref.current.rotation.x = ref.current.rotation.y += 0.01))\n",
    "\n",
    "          return (\n",
    "            <mesh position={position} ref={ref}>\n",
    "              <cylinderGeometry args={[1, 1, 4]} attach=\"geometry\" />\n",
    "              <meshPhongMaterial color={color} attach=\"material\" />\n",
    "            </mesh>\n",
    "          )\n",
    "        }\"\"\"\n",
    "\n",
    "\n",
    "\n"
   ]
  },
  {
   "cell_type": "code",
   "execution_count": 9,
   "id": "1e4db124-6902-478d-b0db-c5d8b27c2e9f",
   "metadata": {},
   "outputs": [],
   "source": [
    "class LineSegmentWidget(ipyreact.Widget):\n",
    "    _esm = \"\"\"\n",
    "        import React, { useRef, useState } from \"react\"\n",
    "        import { Canvas, useFrame, useThree } from 'threejs-fiber'\n",
    "        import { OrbitControls } from \"threejs-fiber\";\n",
    "\n",
    "        import {\n",
    "          Vector3, BufferGeometry\n",
    "        } from \"threejs-fiber\";\n",
    "\n",
    "        export default function LineSegment({position, color}) {\n",
    "          const ref = useRef();\n",
    "          useFrame(() => (ref.current.rotation.x = ref.current.rotation.y += 0.01));\n",
    "\n",
    "          const points = []\n",
    "          points.push(new Vector3(-10, 0, 0))\n",
    "          points.push(new Vector3(0, 10, 0))\n",
    "          points.push(new Vector3(10, 0, 0))\n",
    "\n",
    "          const lineGeometry = new BufferGeometry().setFromPoints(points);\n",
    "\n",
    "          return (        \n",
    "          <line ref={ref} geometry={lineGeometry}>\n",
    "              <lineBasicMaterial attach=\"material\" color={0xff0000} linewidth={10} linecap={'round'} linejoin={'round'} />\n",
    "          </line>);\n",
    "\n",
    "          /* return (\n",
    "            <line   position={position} ref={ref}\n",
    "                    points={[                \n",
    "                      [0, 0, 0], \n",
    "                      [1, 0, 1]  \n",
    "                    ]}                      \n",
    "                    lineWidth={5} \n",
    "                    color={0xff0000}\n",
    "            >\n",
    "\n",
    "            </Line>\n",
    "          )*/\n",
    "        }\"\"\"\n"
   ]
  },
  {
   "cell_type": "code",
   "execution_count": 10,
   "id": "67a1ad20-5691-41bf-9da0-a0e7ae1408a5",
   "metadata": {},
   "outputs": [],
   "source": [
    "\n",
    "class PlaneWidget(ipyreact.Widget):\n",
    "    _esm = \"\"\"\n",
    "        import React, { useRef, useState } from \"react\"\n",
    "        import { Canvas, useFrame, useThree } from 'threejs-fiber'\n",
    "        import { OrbitControls } from \"threejs-fiber\";\n",
    "        import DoubleSided from \"three\"\n",
    "\n",
    "\n",
    "        export default function Plane({position, color}) {\n",
    "          const ref = useRef()\n",
    "          useFrame(() => (ref.current.rotation.x = ref.current.rotation.y += 0.01))\n",
    "\n",
    "          return (\n",
    "            // The mesh is at the origin\n",
    "            // Since it is inside a group, it is at the origin\n",
    "            // of that group\n",
    "            // It's rotated by 90 degrees along the X-axis\n",
    "            // This is because, by default, planes are rendered\n",
    "            // in the X-Y plane, where Y is the up direction\n",
    "            <mesh ref={ref} position={[0, 0, 0]} rotation={[Math.PI / 2, 0, 0]} scale={[1, 1, 1]}>\n",
    "              {/*\n",
    "                The thing that gives the mesh its shape\n",
    "                In this case the shape is a flat plane\n",
    "              */}\n",
    "              <planeGeometry />\n",
    "              {/*\n",
    "                The material gives a mesh its texture or look.\n",
    "                In this case, it is just a uniform green\n",
    "              */}\n",
    "              <meshBasicMaterial color=\"green\"  />\n",
    "            </mesh>\n",
    "          );\n",
    "}\n",
    "\"\"\"\n"
   ]
  },
  {
   "cell_type": "code",
   "execution_count": 11,
   "id": "1179abe8-4589-427d-9da3-6e9c36f69b06",
   "metadata": {},
   "outputs": [],
   "source": [
    "class CameraWidget(ipyreact.Widget):\n",
    "    _esm = \"\"\"\n",
    "        import React, { useRef, useState } from \"react\"\n",
    "        import { Canvas, useFrame, useThree, PerspectiveCamera } from 'threejs-fiber'\n",
    "\n",
    "\n",
    "        export default function Camera({position}) {\n",
    "          const ref = useRef()\n",
    "          useFrame(() => (ref.current.position.x = ref.current.position.y += 0.01))\n",
    "\n",
    "          return (\n",
    "            // The mesh is at the origin\n",
    "            // Since it is inside a group, it is at the origin\n",
    "            // of that group\n",
    "            // It's rotated by 90 degrees along the X-axis\n",
    "            // This is because, by default, planes are rendered\n",
    "            // in the X-Y plane, where Y is the up direction\n",
    "            <PerspectiveCamera ref={ref} />\n",
    "\n",
    "          );\n",
    "        \n",
    "    \"\"\""
   ]
  },
  {
   "cell_type": "code",
   "execution_count": 12,
   "id": "2b6f52ea-3d3a-40af-a825-0e53ff7fd05d",
   "metadata": {},
   "outputs": [
    {
     "data": {
      "application/vnd.jupyter.widget-view+json": {
       "model_id": "88818051f08543079739e3bfe177914d",
       "version_major": 2,
       "version_minor": 1
      },
      "text/plain": [
       "Widget(children=[Widget(children=[CameraWidget(), BoxWidget(props={'position': [-1, 0, 3], 'color': '#18a36e'}…"
      ]
     },
     "execution_count": 12,
     "metadata": {},
     "output_type": "execute_result"
    }
   ],
   "source": [
    "import random\n",
    "\n",
    "\n",
    "def random_color():\n",
    "    # Generates a random hex color code\n",
    "    return \"#\" + ''.join([random.choice('0123456789ABCDEF') for _ in range(6)])\n",
    "\n",
    "def add(_ignore=None):\n",
    "    x = random.random() * 4 - 2\n",
    "    z = random.random() * 4 - 1\n",
    "    color = random_color()  # Call the random_color function to get a random color\n",
    "    box = BoxWidget(props=dict(position=[x, 0, z], color=color))  # Use the random color for the box\n",
    "    canvas.children = [*canvas.children, box]\n",
    "\n",
    "canvas = ipyreact.Widget(_type=\"Canvas\", _module=\"threejs-fiber\",\n",
    "        events=dict(onClick=add),\n",
    "        children=[\n",
    "            CameraWidget(),\n",
    "            BoxWidget(props=dict(position=[-1, 0, 3], color=\"#18a36e\")),\n",
    "            # BoxWidget(props=dict(position=[1, 0, 3], color=\"#f56f42\")),\n",
    "            LineSegmentWidget(props=dict(position=[1,0,3]), color=\"#ff0000\"),\n",
    "            PlaneWidget(props=dict(position=[1,0,3]), color=\"#ff0000\"),\n",
    "            CylinderWidget(props=dict(position=[0,-1,3]), color=\"#ff0000\"),\n",
    "\n",
    "            # BladiblaaWidget(props=dict(position=[0,0,3], color=\"#ff0000\")),\n",
    "            # ipyreact.Widget(_type=\"OrbitControls\", _module=\"threejs-fiber\"),\n",
    "            # seems that if it starts with a small letter, it's globally available, and not exported\n",
    "            # from the threejs-fiber module, therefore we do not pass _module=\"threejs-fiber\"\n",
    "            ipyreact.Widget(_type=\"directionalLight\",\n",
    "                           props=dict(color=\"#ffffff\", intensity=1, position=[-1, 2, 4]))\n",
    "       ]\n",
    ")\n",
    "\n",
    "# the canvas fills the parent, so wrap it in a div with the fixed height\n",
    "ipyreact.Widget(_type=\"div\", props=dict(style=dict(height=\"600px\")), children=[canvas])\n"
   ]
  },
  {
   "cell_type": "code",
   "execution_count": null,
   "id": "f101746f-4961-4a47-a22c-703a057c316b",
   "metadata": {},
   "outputs": [],
   "source": []
  },
  {
   "cell_type": "code",
   "execution_count": null,
   "id": "59b66820-1c73-4bfa-8ac0-aff2a9aff9ec",
   "metadata": {},
   "outputs": [],
   "source": []
  }
 ],
 "metadata": {
  "kernelspec": {
   "display_name": "Python 3 (ipykernel)",
   "language": "python",
   "name": "python3"
  },
  "language_info": {
   "codemirror_mode": {
    "name": "ipython",
    "version": 3
   },
   "file_extension": ".py",
   "mimetype": "text/x-python",
   "name": "python",
   "nbconvert_exporter": "python",
   "pygments_lexer": "ipython3",
   "version": "3.12.7"
  }
 },
 "nbformat": 4,
 "nbformat_minor": 5
}
