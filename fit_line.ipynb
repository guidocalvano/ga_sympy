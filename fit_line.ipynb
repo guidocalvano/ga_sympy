{
 "cells": [
  {
   "cell_type": "code",
   "execution_count": 17,
   "id": "c0da677b-6786-492c-8e0d-2b04be61120c",
   "metadata": {},
   "outputs": [],
   "source": [
    "import numpy as np\n",
    "\n",
    "import kingdon as kd\n",
    "\n",
    "from kingdon import Algebra\n",
    "import matplotlib.pyplot as plt\n",
    "\n",
    "\n",
    "algebra = Algebra(3, 0, 1)\n",
    "locals().update(algebra.blades)"
   ]
  },
  {
   "cell_type": "code",
   "execution_count": 18,
   "id": "c6608d06-2b46-45c7-bcf0-4707df276a8a",
   "metadata": {},
   "outputs": [
    {
     "data": {
      "text/plain": [
       "<matplotlib.collections.PathCollection at 0x702dd0819d30>"
      ]
     },
     "execution_count": 18,
     "metadata": {},
     "output_type": "execute_result"
    },
    {
     "data": {
      "image/png": "[encoded data removed]",
      "text/plain": [
       "<Figure size 640x480 with 1 Axes>"
      ]
     },
     "metadata": {},
     "output_type": "display_data"
    }
   ],
   "source": [
    "d = np.array([\n",
    "    [50, 1, .01],\n",
    "    [40,-1, -.03],\n",
    "    [10, 0, .02],\n",
    "    [-10,2, .005]\n",
    "])\n",
    "\n",
    "centered_d = d - np.mean(d, axis=-1, keepdims=True)\n",
    "plt.scatter(centered_d[:, 0], centered_d[:, 1])"
   ]
  },
  {
   "cell_type": "code",
   "execution_count": 12,
   "id": "ade9bccc-dc3c-41c7-aa14-1f18422753d4",
   "metadata": {},
   "outputs": [
    {
     "data": {
      "text/plain": [
       "array([[1916.47793611, -962.38873056, -954.08920556],\n",
       "       [-962.38873056,  484.74460278,  477.64412778],\n",
       "       [-954.08920556,  477.64412778,  476.44507778]])"
      ]
     },
     "execution_count": 12,
     "metadata": {},
     "output_type": "execute_result"
    }
   ],
   "source": [
    "covariance = centered_d.T @ centered_d\n",
    "covariance"
   ]
  },
  {
   "cell_type": "code",
   "execution_count": 13,
   "id": "8d1b31e5-0f5f-4b78-8c94-245aa7f7024d",
   "metadata": {},
   "outputs": [
    {
     "data": {
      "text/plain": [
       "array([[ 0.81649402, -0.41001678, -0.40647725],\n",
       "       [-0.57735027, -0.57735027, -0.57735027],\n",
       "       [-0.00204355, -0.70608279,  0.70812634]])"
      ]
     },
     "metadata": {},
     "output_type": "display_data"
    },
    {
     "data": {
      "text/plain": [
       "array([[ 2.87473489e+03, -0.00000000e+00,  0.00000000e+00],\n",
       "       [ 0.00000000e+00, -5.74582260e-14,  0.00000000e+00],\n",
       "       [ 0.00000000e+00, -0.00000000e+00,  2.93272313e+00]])"
      ]
     },
     "metadata": {},
     "output_type": "display_data"
    }
   ],
   "source": [
    "lD, eigD = np.linalg.eig(covariance.T)\n",
    "eigD = eigD.T\n",
    "LD = np.eye(3) * lD\n",
    "\n",
    "display(eigD)\n",
    "display(LD)\n"
   ]
  },
  {
   "cell_type": "code",
   "execution_count": 20,
   "id": "7403cb3d-353c-47c8-bae9-ba9e8029f3e1",
   "metadata": {},
   "outputs": [
    {
     "data": {
      "text/plain": [
       "array([ 2.34720386e+03,  2.35588367e-14, -1.19208522e+00])"
      ]
     },
     "execution_count": 20,
     "metadata": {},
     "output_type": "execute_result"
    }
   ],
   "source": [
    "correct_principle_component = (eigD @ LD)[0]"
   ]
  },
  {
   "cell_type": "code",
   "execution_count": 23,
   "id": "2918c217-077a-4f30-a682-871401284e47",
   "metadata": {},
   "outputs": [
    {
     "data": {
      "text/plain": [
       "['e',\n",
       " 'e0',\n",
       " 'e1',\n",
       " 'e2',\n",
       " 'e3',\n",
       " 'e01',\n",
       " 'e02',\n",
       " 'e03',\n",
       " 'e12',\n",
       " 'e13',\n",
       " 'e23',\n",
       " 'e012',\n",
       " 'e013',\n",
       " 'e023',\n",
       " 'e123',\n",
       " 'e0123']"
      ]
     },
     "execution_count": 23,
     "metadata": {},
     "output_type": "execute_result"
    }
   ],
   "source": [
    "list(algebra.blades.keys())"
   ]
  },
  {
   "cell_type": "code",
   "execution_count": 36,
   "id": "f19ddc27-057b-4fa7-b610-6aae2cac558c",
   "metadata": {},
   "outputs": [
    {
     "ename": "TypeError",
     "evalue": "'int' object is not subscriptable",
     "output_type": "error",
     "traceback": [
      "\u001b[0;31m---------------------------------------------------------------------------\u001b[0m",
      "\u001b[0;31mTypeError\u001b[0m                                 Traceback (most recent call last)",
      "Cell \u001b[0;32mIn[36], line 1\u001b[0m\n\u001b[0;32m----> 1\u001b[0m \u001b[43mcentered_d\u001b[49m\u001b[43m[\u001b[49m\u001b[43m:\u001b[49m\u001b[43m,\u001b[49m\u001b[43m \u001b[49m\u001b[38;5;241;43m0\u001b[39;49m\u001b[43m]\u001b[49m\u001b[43m \u001b[49m\u001b[38;5;241;43m*\u001b[39;49m\u001b[43m \u001b[49m\u001b[43me1\u001b[49m\n",
      "File \u001b[0;32m~/code/experiments/ga_sympy/env/lib/python3.12/site-packages/kingdon/multivector.py:288\u001b[0m, in \u001b[0;36mMultiVector.__getitem__\u001b[0;34m(self, item)\u001b[0m\n\u001b[1;32m    286\u001b[0m values \u001b[38;5;241m=\u001b[39m \u001b[38;5;28mself\u001b[39m\u001b[38;5;241m.\u001b[39mvalues()\n\u001b[1;32m    287\u001b[0m \u001b[38;5;28;01mif\u001b[39;00m \u001b[38;5;28misinstance\u001b[39m(values, (\u001b[38;5;28mtuple\u001b[39m, \u001b[38;5;28mlist\u001b[39m)):\n\u001b[0;32m--> 288\u001b[0m     return_values \u001b[38;5;241m=\u001b[39m \u001b[43mvalues\u001b[49m\u001b[38;5;241;43m.\u001b[39;49m\u001b[38;5;18;43m__class__\u001b[39;49m\u001b[43m(\u001b[49m\u001b[43mvalue\u001b[49m\u001b[43m[\u001b[49m\u001b[43mitem\u001b[49m\u001b[43m]\u001b[49m\u001b[43m \u001b[49m\u001b[38;5;28;43;01mfor\u001b[39;49;00m\u001b[43m \u001b[49m\u001b[43mvalue\u001b[49m\u001b[43m \u001b[49m\u001b[38;5;129;43;01min\u001b[39;49;00m\u001b[43m \u001b[49m\u001b[43mvalues\u001b[49m\u001b[43m)\u001b[49m\n\u001b[1;32m    289\u001b[0m \u001b[38;5;28;01melse\u001b[39;00m:\n\u001b[1;32m    290\u001b[0m     return_values \u001b[38;5;241m=\u001b[39m values[(\u001b[38;5;28mslice\u001b[39m(\u001b[38;5;28;01mNone\u001b[39;00m), \u001b[38;5;241m*\u001b[39mitem)]\n",
      "File \u001b[0;32m~/code/experiments/ga_sympy/env/lib/python3.12/site-packages/kingdon/multivector.py:288\u001b[0m, in \u001b[0;36m<genexpr>\u001b[0;34m(.0)\u001b[0m\n\u001b[1;32m    286\u001b[0m values \u001b[38;5;241m=\u001b[39m \u001b[38;5;28mself\u001b[39m\u001b[38;5;241m.\u001b[39mvalues()\n\u001b[1;32m    287\u001b[0m \u001b[38;5;28;01mif\u001b[39;00m \u001b[38;5;28misinstance\u001b[39m(values, (\u001b[38;5;28mtuple\u001b[39m, \u001b[38;5;28mlist\u001b[39m)):\n\u001b[0;32m--> 288\u001b[0m     return_values \u001b[38;5;241m=\u001b[39m values\u001b[38;5;241m.\u001b[39m\u001b[38;5;18m__class__\u001b[39m(\u001b[43mvalue\u001b[49m\u001b[43m[\u001b[49m\u001b[43mitem\u001b[49m\u001b[43m]\u001b[49m \u001b[38;5;28;01mfor\u001b[39;00m value \u001b[38;5;129;01min\u001b[39;00m values)\n\u001b[1;32m    289\u001b[0m \u001b[38;5;28;01melse\u001b[39;00m:\n\u001b[1;32m    290\u001b[0m     return_values \u001b[38;5;241m=\u001b[39m values[(\u001b[38;5;28mslice\u001b[39m(\u001b[38;5;28;01mNone\u001b[39;00m), \u001b[38;5;241m*\u001b[39mitem)]\n",
      "\u001b[0;31mTypeError\u001b[0m: 'int' object is not subscriptable"
     ]
    }
   ],
   "source": [
    "centered_d[:, 0] * e1"
   ]
  },
  {
   "cell_type": "code",
   "execution_count": 51,
   "id": "8614eba2-aa52-4b40-b19a-6ae6eb4a980b",
   "metadata": {},
   "outputs": [],
   "source": [
    "line_basis = e12 + e13 + e23\n",
    "\n",
    "\n",
    "for_kingdon = np.concatenate([centered_d.T, np.ones([1, centered_d.shape[0]])], axis=0)\n",
    "\n",
    "points = algebra.trivector(for_kingdon)\n",
    "# points = centered_d[:, 0] * e012 + centered_d[:, 1] * e013 + centered_d[:, 2] * e023 + e123\n",
    "\n",
    "origin = algebra.trivector(np.array([[0,0,0,1]]).T)\n"
   ]
  },
  {
   "cell_type": "code",
   "execution_count": 53,
   "id": "795aa550-88a4-425c-b40f-41d4eec3b753",
   "metadata": {},
   "outputs": [],
   "source": [
    "as_lines = points & origin"
   ]
  },
  {
   "cell_type": "code",
   "execution_count": 62,
   "id": "734e98e6-e46a-4bc7-9d9c-3dfe9a37732e",
   "metadata": {},
   "outputs": [
    {
     "data": {
      "text/plain": [
       "27.0 𝐞₁₂ + -14.0 𝐞₁₃ + -13.0 𝐞₂₃"
      ]
     },
     "execution_count": 62,
     "metadata": {},
     "output_type": "execute_result"
    }
   ],
   "source": [
    "as_lines[1]"
   ]
  },
  {
   "cell_type": "code",
   "execution_count": 64,
   "id": "2216c7fb-f6b8-46ac-b502-6fc79653cf50",
   "metadata": {},
   "outputs": [],
   "source": [
    "planes = algebra.vector(for_kingdon)"
   ]
  },
  {
   "cell_type": "code",
   "execution_count": 91,
   "id": "303d7ada-efef-4415-a7cf-1986912c1d3a",
   "metadata": {},
   "outputs": [
    {
     "data": {
      "text/plain": [
       "-5.77e+02 𝐞₀₁ + 5.11e+02 𝐞₀₂ + -5.45e+02 𝐞₀₃ + 1.0 𝐞₁₂ + 17.0 𝐞₁₃ + -16.0 𝐞₂₃"
      ]
     },
     "execution_count": 91,
     "metadata": {},
     "output_type": "execute_result"
    }
   ],
   "source": [
    "(planes * points)[0]"
   ]
  },
  {
   "cell_type": "code",
   "execution_count": 79,
   "id": "abdbaf5c-db36-4e21-8266-64a14cf87376",
   "metadata": {},
   "outputs": [
    {
     "data": {
      "text/plain": [
       "33.0 𝐞₀₁₂ + -16.0 𝐞₀₁₃ + -17.0 𝐞₀₂₃ + 1.0 𝐞₁₂₃"
      ]
     },
     "metadata": {},
     "output_type": "display_data"
    },
    {
     "data": {
      "text/plain": [
       "33.0 𝐞₀ + -16.0 𝐞₁ + -17.0 𝐞₂ + 1.0 𝐞₃"
      ]
     },
     "metadata": {},
     "output_type": "display_data"
    }
   ],
   "source": [
    "display(points[0])\n",
    "display(planes[0])"
   ]
  },
  {
   "cell_type": "code",
   "execution_count": 168,
   "id": "003e6ce1-a7b4-433c-827f-866359441f06",
   "metadata": {},
   "outputs": [
    {
     "data": {
      "text/latex": [
       "$\\displaystyle 123.45 H ^ 2 H ^ 3$"
      ],
      "text/plain": [
       "123.45*hyperreal(2)*hyperreal(3)"
      ]
     },
     "execution_count": 168,
     "metadata": {},
     "output_type": "execute_result"
    }
   ],
   "source": [
    "from sympy import symbols, Function, Expr, Add, Integer, sympify, simplify\n",
    "\n",
    "class hyperreal(Function):\n",
    "\n",
    "    @classmethod\n",
    "    def eval(cls, exponent):\n",
    "\n",
    "        if exponent == 0:\n",
    "            return 1\n",
    "        \n",
    "        return None\n",
    "\n",
    "    def __mul__(self, other):\n",
    "        print(\"asdf\")\n",
    "        return other\n",
    "\n",
    "    def _latex(self, printer):\n",
    "\n",
    "        s = printer._print(symbols('\\\\epsilon') if self.args[0] < 0 else symbols('H'))\n",
    "\n",
    "        exponent = printer._print(np.abs(self.args[0]))\n",
    "\n",
    "        return f'{s} ^ {exponent}'\n",
    "    \n",
    "    \n",
    "simplify(123.45 * hyperreal(3) * hyperreal(2))"
   ]
  },
  {
   "cell_type": "code",
   "execution_count": 175,
   "id": "da9dd4fc-6bd6-41b3-9e87-0b738f1ccbf5",
   "metadata": {},
   "outputs": [
    {
     "data": {
      "text/latex": [
       "$\\displaystyle a^{6}$"
      ],
      "text/plain": [
       "a**6"
      ]
     },
     "execution_count": 175,
     "metadata": {},
     "output_type": "execute_result"
    }
   ],
   "source": [
    "a = symbols('a')\n",
    "\n",
    "a**2 * a**4"
   ]
  }
 ],
 "metadata": {
  "kernelspec": {
   "display_name": "Python 3 (ipykernel)",
   "language": "python",
   "name": "python3"
  },
  "language_info": {
   "codemirror_mode": {
    "name": "ipython",
    "version": 3
   },
   "file_extension": ".py",
   "mimetype": "text/x-python",
   "name": "python",
   "nbconvert_exporter": "python",
   "pygments_lexer": "ipython3",
   "version": "3.12.7"
  }
 },
 "nbformat": 4,
 "nbformat_minor": 5
}
