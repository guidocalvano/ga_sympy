{
 "cells": [
  {
   "cell_type": "code",
   "execution_count": 21,
   "id": "8e547ba1-675d-4ec0-bc78-72fe12ddf377",
   "metadata": {},
   "outputs": [
    {
     "name": "stdout",
     "output_type": "stream",
     "text": [
      "Collecting ipynbname\n",
      "  Downloading ipynbname-2024.1.0.0-py3-none-any.whl.metadata (1.9 kB)\n",
      "Requirement already satisfied: ipykernel in ./env/lib/python3.12/site-packages (from ipynbname) (6.29.5)\n",
      "Requirement already satisfied: comm>=0.1.1 in ./env/lib/python3.12/site-packages (from ipykernel->ipynbname) (0.2.2)\n",
      "Requirement already satisfied: debugpy>=1.6.5 in ./env/lib/python3.12/site-packages (from ipykernel->ipynbname) (1.8.11)\n",
      "Requirement already satisfied: ipython>=7.23.1 in ./env/lib/python3.12/site-packages (from ipykernel->ipynbname) (8.31.0)\n",
      "Requirement already satisfied: jupyter-client>=6.1.12 in ./env/lib/python3.12/site-packages (from ipykernel->ipynbname) (8.6.3)\n",
      "Requirement already satisfied: jupyter-core!=5.0.*,>=4.12 in ./env/lib/python3.12/site-packages (from ipykernel->ipynbname) (5.7.2)\n",
      "Requirement already satisfied: matplotlib-inline>=0.1 in ./env/lib/python3.12/site-packages (from ipykernel->ipynbname) (0.1.7)\n",
      "Requirement already satisfied: nest-asyncio in ./env/lib/python3.12/site-packages (from ipykernel->ipynbname) (1.6.0)\n",
      "Requirement already satisfied: packaging in ./env/lib/python3.12/site-packages (from ipykernel->ipynbname) (24.2)\n",
      "Requirement already satisfied: psutil in ./env/lib/python3.12/site-packages (from ipykernel->ipynbname) (6.1.1)\n",
      "Requirement already satisfied: pyzmq>=24 in ./env/lib/python3.12/site-packages (from ipykernel->ipynbname) (26.2.0)\n",
      "Requirement already satisfied: tornado>=6.1 in ./env/lib/python3.12/site-packages (from ipykernel->ipynbname) (6.4.2)\n",
      "Requirement already satisfied: traitlets>=5.4.0 in ./env/lib/python3.12/site-packages (from ipykernel->ipynbname) (5.14.3)\n",
      "Requirement already satisfied: decorator in ./env/lib/python3.12/site-packages (from ipython>=7.23.1->ipykernel->ipynbname) (5.1.1)\n",
      "Requirement already satisfied: jedi>=0.16 in ./env/lib/python3.12/site-packages (from ipython>=7.23.1->ipykernel->ipynbname) (0.19.2)\n",
      "Requirement already satisfied: pexpect>4.3 in ./env/lib/python3.12/site-packages (from ipython>=7.23.1->ipykernel->ipynbname) (4.9.0)\n",
      "Requirement already satisfied: prompt_toolkit<3.1.0,>=3.0.41 in ./env/lib/python3.12/site-packages (from ipython>=7.23.1->ipykernel->ipynbname) (3.0.48)\n",
      "Requirement already satisfied: pygments>=2.4.0 in ./env/lib/python3.12/site-packages (from ipython>=7.23.1->ipykernel->ipynbname) (2.19.0)\n",
      "Requirement already satisfied: stack_data in ./env/lib/python3.12/site-packages (from ipython>=7.23.1->ipykernel->ipynbname) (0.6.3)\n",
      "Requirement already satisfied: python-dateutil>=2.8.2 in ./env/lib/python3.12/site-packages (from jupyter-client>=6.1.12->ipykernel->ipynbname) (2.9.0.post0)\n",
      "Requirement already satisfied: platformdirs>=2.5 in ./env/lib/python3.12/site-packages (from jupyter-core!=5.0.*,>=4.12->ipykernel->ipynbname) (4.3.6)\n",
      "Requirement already satisfied: parso<0.9.0,>=0.8.4 in ./env/lib/python3.12/site-packages (from jedi>=0.16->ipython>=7.23.1->ipykernel->ipynbname) (0.8.4)\n",
      "Requirement already satisfied: ptyprocess>=0.5 in ./env/lib/python3.12/site-packages (from pexpect>4.3->ipython>=7.23.1->ipykernel->ipynbname) (0.7.0)\n",
      "Requirement already satisfied: wcwidth in ./env/lib/python3.12/site-packages (from prompt_toolkit<3.1.0,>=3.0.41->ipython>=7.23.1->ipykernel->ipynbname) (0.2.13)\n",
      "Requirement already satisfied: six>=1.5 in ./env/lib/python3.12/site-packages (from python-dateutil>=2.8.2->jupyter-client>=6.1.12->ipykernel->ipynbname) (1.17.0)\n",
      "Requirement already satisfied: executing>=1.2.0 in ./env/lib/python3.12/site-packages (from stack_data->ipython>=7.23.1->ipykernel->ipynbname) (2.1.0)\n",
      "Requirement already satisfied: asttokens>=2.1.0 in ./env/lib/python3.12/site-packages (from stack_data->ipython>=7.23.1->ipykernel->ipynbname) (3.0.0)\n",
      "Requirement already satisfied: pure-eval in ./env/lib/python3.12/site-packages (from stack_data->ipython>=7.23.1->ipykernel->ipynbname) (0.2.3)\n",
      "Downloading ipynbname-2024.1.0.0-py3-none-any.whl (4.3 kB)\n",
      "Installing collected packages: ipynbname\n",
      "Successfully installed ipynbname-2024.1.0.0\n",
      "\n",
      "\u001b[1m[\u001b[0m\u001b[34;49mnotice\u001b[0m\u001b[1;39;49m]\u001b[0m\u001b[39;49m A new release of pip is available: \u001b[0m\u001b[31;49m24.2\u001b[0m\u001b[39;49m -> \u001b[0m\u001b[32;49m24.3.1\u001b[0m\n",
      "\u001b[1m[\u001b[0m\u001b[34;49mnotice\u001b[0m\u001b[1;39;49m]\u001b[0m\u001b[39;49m To update, run: \u001b[0m\u001b[32;49mpip install --upgrade pip\u001b[0m\n",
      "nb_fname='Untitled1'\n",
      "nb_path=PosixPath('/home/guidocalvano/code/experiments/ga_sympy/Untitled1.ipynb')\n"
     ]
    }
   ],
   "source": [
    "! pip install ipynbname\n",
    "\n",
    "import ipynbname\n",
    "nb_fname = ipynbname.name()\n",
    "nb_path = ipynbname.path()\n",
    "print(f\"{nb_fname=}\")\n",
    "print(f\"{nb_path=}\")"
   ]
  },
  {
   "cell_type": "code",
   "execution_count": 20,
   "id": "487285dd-523f-4869-8584-2dc79ce65be1",
   "metadata": {},
   "outputs": [],
   "source": [
    "ip = IPython.get_ipython()\n",
    "ip.kernel."
   ]
  },
  {
   "cell_type": "code",
   "execution_count": 9,
   "id": "96ffb39e-c19c-46ab-9c26-b13b59bced5c",
   "metadata": {},
   "outputs": [
    {
     "name": "stdout",
     "output_type": "stream",
     "text": [
      "Collecting ipyparams\n",
      "  Downloading ipyparams-0.2.1.tar.gz (2.7 kB)\n",
      "  Installing build dependencies ... \u001b[?2done\n",
      "\u001b[?25h  Getting requirements to build wheel ... \u001b[?25ldone\n",
      "\u001b[?25h  Preparing metadata (pyproject.toml) ... \u001b[?25ldone\n",
      "\u001b[?25hBuilding wheels for collected packages: ipyparams\n",
      "  Building wheel for ipyparams (pyproject.toml) ... \u001b[?25ldone\n",
      "\u001b[?25h  Created wheel for ipyparams: filename=ipyparams-0.2.1-py3-none-any.whl size=2806 sha256=d9a62efc9ebdba59a01f538ca7b2cee0a5ab180f6ead57d93cfd62c104192eb6\n",
      "  Stored in directory: /home/guidocalvano/.cache/pip/wheels/72/5d/d0/364ad9cf6a03d490220cdc8783dc3c3d0bb354c097ff3d8ded\n",
      "Successfully built ipyparams\n",
      "Installing collected packages: ipyparams\n",
      "Successfully installed ipyparams-0.2.1\n",
      "\n",
      "\u001b[1m[\u001b[0m\u001b[34;49mnotice\u001b[0m\u001b[1;39;49m]\u001b[0m\u001b[39;49m A new release of pip is available: \u001b[0m\u001b[31;49m24.2\u001b[0m\u001b[39;49m -> \u001b[0m\u001b[32;49m24.3.1\u001b[0m\n",
      "\u001b[1m[\u001b[0m\u001b[34;49mnotice\u001b[0m\u001b[1;39;49m]\u001b[0m\u001b[39;49m To update, run: \u001b[0m\u001b[32;49mpip install --upgrade pip\u001b[0m\n"
     ]
    }
   ],
   "source": [
    "!pip install ipyparams\n"
   ]
  }
 ],
 "metadata": {
  "kernelspec": {
   "display_name": "Python 3 (ipykernel)",
   "language": "python",
   "name": "python3"
  },
  "language_info": {
   "codemirror_mode": {
    "name": "ipython",
    "version": 3
   },
   "file_extension": ".py",
   "mimetype": "text/x-python",
   "name": "python",
   "nbconvert_exporter": "python",
   "pygments_lexer": "ipython3",
   "version": "3.12.7"
  }
 },
 "nbformat": 4,
 "nbformat_minor": 5
}
